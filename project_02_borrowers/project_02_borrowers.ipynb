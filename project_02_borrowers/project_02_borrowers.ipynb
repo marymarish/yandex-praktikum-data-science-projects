{
 "cells": [
  {
   "cell_type": "markdown",
   "id": "7c28646a",
   "metadata": {},
   "source": [
    "# Исследование надежности заемщиков."
   ]
  },
  {
   "cell_type": "markdown",
   "id": "62b78ca6",
   "metadata": {},
   "source": [
    "### Шаг 1. Обзор данных"
   ]
  },
  {
   "cell_type": "code",
   "execution_count": 2,
   "id": "9c60221f",
   "metadata": {},
   "outputs": [
    {
     "name": "stdout",
     "output_type": "stream",
     "text": [
      "   children  days_employed  dob_years education  education_id  \\\n",
      "0         1   -8437.673028         42    высшее             0   \n",
      "1         1   -4024.803754         36   среднее             1   \n",
      "2         0   -5623.422610         33   Среднее             1   \n",
      "3         3   -4124.747207         32   среднее             1   \n",
      "4         0  340266.072047         53   среднее             1   \n",
      "\n",
      "      family_status  family_status_id gender income_type  debt   total_income  \\\n",
      "0   женат / замужем                 0      F   сотрудник     0  253875.639453   \n",
      "1   женат / замужем                 0      F   сотрудник     0  112080.014102   \n",
      "2   женат / замужем                 0      M   сотрудник     0  145885.952297   \n",
      "3   женат / замужем                 0      M   сотрудник     0  267628.550329   \n",
      "4  гражданский брак                 1      F   пенсионер     0  158616.077870   \n",
      "\n",
      "                      purpose  \n",
      "0               покупка жилья  \n",
      "1     приобретение автомобиля  \n",
      "2               покупка жилья  \n",
      "3  дополнительное образование  \n",
      "4             сыграть свадьбу  \n",
      "<class 'pandas.core.frame.DataFrame'>\n",
      "RangeIndex: 21525 entries, 0 to 21524\n",
      "Data columns (total 12 columns):\n",
      " #   Column            Non-Null Count  Dtype  \n",
      "---  ------            --------------  -----  \n",
      " 0   children          21525 non-null  int64  \n",
      " 1   days_employed     19351 non-null  float64\n",
      " 2   dob_years         21525 non-null  int64  \n",
      " 3   education         21525 non-null  object \n",
      " 4   education_id      21525 non-null  int64  \n",
      " 5   family_status     21525 non-null  object \n",
      " 6   family_status_id  21525 non-null  int64  \n",
      " 7   gender            21525 non-null  object \n",
      " 8   income_type       21525 non-null  object \n",
      " 9   debt              21525 non-null  int64  \n",
      " 10  total_income      19351 non-null  float64\n",
      " 11  purpose           21525 non-null  object \n",
      "dtypes: float64(2), int64(5), object(5)\n",
      "memory usage: 2.0+ MB\n"
     ]
    }
   ],
   "source": [
    "import pandas as pd\n",
    "data = pd.read_csv('/datasets/data.csv') # чтение содержимого файла и сохранение в датафрейме data\n",
    "print(data.head()) # знакомство с данными\n",
    "data.info() # оценка объема данных в таблице"
   ]
  },
  {
   "cell_type": "markdown",
   "id": "c57294bf",
   "metadata": {},
   "source": [
    "### Шаг 2.1 Заполнение пропусков"
   ]
  },
  {
   "cell_type": "code",
   "execution_count": 3,
   "id": "6a78a628",
   "metadata": {},
   "outputs": [
    {
     "name": "stdout",
     "output_type": "stream",
     "text": [
      "0.8990011614401858\n",
      "0.8990011614401858\n",
      "<class 'pandas.core.frame.DataFrame'>\n",
      "RangeIndex: 21525 entries, 0 to 21524\n",
      "Data columns (total 12 columns):\n",
      " #   Column            Non-Null Count  Dtype  \n",
      "---  ------            --------------  -----  \n",
      " 0   children          21525 non-null  int64  \n",
      " 1   days_employed     21525 non-null  float64\n",
      " 2   dob_years         21525 non-null  int64  \n",
      " 3   education         21525 non-null  object \n",
      " 4   education_id      21525 non-null  int64  \n",
      " 5   family_status     21525 non-null  object \n",
      " 6   family_status_id  21525 non-null  int64  \n",
      " 7   gender            21525 non-null  object \n",
      " 8   income_type       21525 non-null  object \n",
      " 9   debt              21525 non-null  int64  \n",
      " 10  total_income      21525 non-null  float64\n",
      " 11  purpose           21525 non-null  object \n",
      "dtypes: float64(2), int64(5), object(5)\n",
      "memory usage: 2.0+ MB\n"
     ]
    }
   ],
   "source": [
    "# Из полученного обзора данных выявлено, что в столбцах 'days_employed' и 'total_income' имеются пропущенные значения\n",
    "# Определим долю пропущенных значений в столбце 'days_employed'\n",
    "print(data['days_employed'].count() / data['children'].count())\n",
    "# также определим долю пропущенных в столбце 'total_income'\n",
    "print(data['total_income'].count()/data['children'].count())\n",
    "\n",
    "# Исходя из одинакового количества пропусков с столбцах 'days_employed' и 'total_income' можно предположить, \n",
    "# что возможная причина пропусков, это отсутствие трудового стажа заемщика, и соответственно, отсутствие ежемесячного дохода.\n",
    "\n",
    "# Медианное значение корректнее применять, когда некоторые значения сильно выделяются среди остального большинства.\n",
    "# заполнение пропусков медианым значением столбца 'days_employed'\n",
    "data['days_employed'] = data['days_employed'].fillna(data['days_employed'].median())\n",
    "# заполнение пропусков медианым значением столбца 'total_income'\n",
    "data['total_income'] = data['total_income'].fillna(data['total_income'].median())\n",
    "\n",
    "# проверка, пропуски отсутствуют, тип столбцов 'days_employed' и 'total_income' остался прежним 'float64'\n",
    "data.info()"
   ]
  },
  {
   "cell_type": "markdown",
   "id": "841b572b",
   "metadata": {},
   "source": [
    "### Шаг 2.2 Проверка данных на аномалии и исправления."
   ]
  },
  {
   "cell_type": "code",
   "execution_count": 4,
   "id": "ff2aa49d",
   "metadata": {},
   "outputs": [
    {
     "name": "stdout",
     "output_type": "stream",
     "text": [
      "0      8437.673028\n",
      "1      4024.803754\n",
      "2      5623.422610\n",
      "3      4124.747207\n",
      "4    340266.072047\n",
      "Name: days_employed, dtype: float64\n"
     ]
    }
   ],
   "source": [
    "# В целях исключения аномалий обратим внимание на столбец 'days_employed', в нем имеются отрицательные значения,\n",
    "# которые соответствуют возможному стажу заемщика при соответствии количества прожитых лет.\n",
    "# В целях исключения аномалий в столбце days_employed', изменим данные с отрицательного на положительные.\n",
    "data ['days_employed'] = data.loc[:,'days_employed'].abs()\n",
    "print(data['days_employed'].head(5))"
   ]
  },
  {
   "cell_type": "code",
   "execution_count": 5,
   "id": "26395360-7f28-4d09-8092-c51f4319e624",
   "metadata": {},
   "outputs": [
    {
     "name": "stdout",
     "output_type": "stream",
     "text": [
      "3450\n"
     ]
    }
   ],
   "source": [
    "# также видно, что в данном столбце остались аномальные данные с величиной стажа, превышающем 100 лет (например, строка 5)\n",
    "# рассчитаем количество строк с величиной стажа более 45 лет.\n",
    "print (data['days_employed'][data['days_employed'] > 16000].count())"
   ]
  },
  {
   "cell_type": "code",
   "execution_count": 6,
   "id": "5c38ffc0-3328-4b64-8e07-71a548eddffc",
   "metadata": {},
   "outputs": [
    {
     "name": "stdout",
     "output_type": "stream",
     "text": [
      "1328.1808865308271\n"
     ]
    }
   ],
   "source": [
    "# рассчитаем медианное значение по столбцу 'days_employed' при условии стажа менее 30 лет.\n",
    "print(data[data['days_employed'] < 10950]['days_employed'].median()) # получилось 1328.18 дней\n",
    "# заполним аномальные значения медианым значением столбца 'days_employed' при стаже менее 30 лет.\n",
    "data.loc[data['days_employed'] > 10950, 'days_employed'] = '1328.18'"
   ]
  },
  {
   "cell_type": "code",
   "execution_count": 7,
   "id": "105d6341-3332-4f0b-9c2b-0dfa6bc2c2a1",
   "metadata": {},
   "outputs": [
    {
     "name": "stdout",
     "output_type": "stream",
     "text": [
      "F    14236\n",
      "M     7288\n",
      "Name: gender, dtype: int64\n"
     ]
    }
   ],
   "source": [
    "# Кроме того, в столбце 'gender'обнаружился пол клиента с индексом 'XNA' в количестве 1 шт.\n",
    "# удалим данную строку в связи с незначительной величиной.\n",
    "data.loc[data['gender'] == 'XNA','gender'] = None\n",
    "data = data.dropna(subset=['gender'])\n",
    "# проверка столбца 'gender' после удаления, остались только F и M\n",
    "print(data['gender'].value_counts())"
   ]
  },
  {
   "cell_type": "code",
   "execution_count": 8,
   "id": "95b3e068-2da6-4ec2-bd2b-2de59469ba5c",
   "metadata": {},
   "outputs": [
    {
     "name": "stdout",
     "output_type": "stream",
     "text": [
      "0.0    14148\n",
      "1.0     4818\n",
      "2.0     2055\n",
      "3.0      330\n",
      "4.0       41\n",
      "5.0        9\n",
      "Name: children, dtype: int64\n"
     ]
    }
   ],
   "source": [
    "# в столбце 'children' обнаружилось количество детей равное \"-1\" в кол-ве 1 шт. и количество детей равное 20 - 76 шт.\n",
    "# Появление данных аномальных величин можеет быт вызвано \"человеческим\" фактором при занесении данных в таблицу\n",
    "# также удалим данные строки в связи с незначительной величиной.\n",
    "data.loc[data['children'] == -1, 'children'] = None\n",
    "data.loc[data['children'] == 20,'children'] = None\n",
    "data = data.dropna(subset=['children'])\n",
    "print(data['children'].value_counts())"
   ]
  },
  {
   "cell_type": "markdown",
   "id": "3fc78259",
   "metadata": {},
   "source": [
    "### Шаг 2.3. Изменение типов данных."
   ]
  },
  {
   "cell_type": "code",
   "execution_count": 9,
   "id": "46ca101f",
   "metadata": {},
   "outputs": [
    {
     "name": "stdout",
     "output_type": "stream",
     "text": [
      "0    253875\n",
      "1    112080\n",
      "2    145885\n",
      "3    267628\n",
      "4    158616\n",
      "Name: total_income, dtype: int32\n"
     ]
    }
   ],
   "source": [
    "# Заменим вещественный тип данных в столбце 'total_income' на целочисленный.\n",
    "data['total_income'] = data['total_income'].astype('int')\n",
    "print(data['total_income'].head())"
   ]
  },
  {
   "cell_type": "markdown",
   "id": "8e824159",
   "metadata": {},
   "source": [
    "### Шаг 2.4. Удаление дубликатов."
   ]
  },
  {
   "cell_type": "code",
   "execution_count": 10,
   "id": "5e50328e",
   "metadata": {},
   "outputs": [
    {
     "name": "stdout",
     "output_type": "stream",
     "text": [
      "['высшее' 'среднее' 'неоконченное высшее' 'начальное' 'ученая степень']\n",
      "71\n",
      "0\n"
     ]
    }
   ],
   "source": [
    "# для исключения не явных дубликатов в столбце 'education' все символы в столбце 'education' приведем к нижнему регистру\n",
    "data['education'] = data['education'].str.lower()\n",
    "print(data['education'].unique()) # выведем все уникальные значения столбца 'education'\n",
    "\n",
    "# Для удаления дубликатов проведена обработка данных:\n",
    "# пропуски в столбцах заполнены в пункте 2.1;\n",
    "# аномальные значения обработаны в пункте 2.2;\n",
    "# не явные дубли (приведение к единому регистру) были обработаны в предыдущем задании;\n",
    "# осталось удалить явные дубли:\n",
    " \n",
    "print(data.duplicated().sum()) # количество дубликатов - 71\n",
    "# очистим таблицу от дубликатов с новой индексацией и удалением старой индексации\n",
    "data = data.drop_duplicates().reset_index(drop=True)\n",
    "# проверим количество дубликатов в таблице\n",
    "print(data.duplicated().sum()) # количество дубликатов - 0"
   ]
  },
  {
   "cell_type": "markdown",
   "id": "4da9060d",
   "metadata": {},
   "source": [
    "### Шаг 2.5. Формирование дополнительных датафреймов словарей, декомпозиция исходного датафрейма."
   ]
  },
  {
   "cell_type": "code",
   "execution_count": 11,
   "id": "d22b70cd",
   "metadata": {},
   "outputs": [
    {
     "name": "stdout",
     "output_type": "stream",
     "text": [
      "   education_id education\n",
      "0             0    высшее\n",
      "1             1   среднее\n",
      "2             1   среднее\n",
      "3             1   среднее\n",
      "4             1   среднее\n",
      "   family_status_id     family_status\n",
      "0                 0   женат / замужем\n",
      "1                 0   женат / замужем\n",
      "2                 0   женат / замужем\n",
      "3                 0   женат / замужем\n",
      "4                 1  гражданский брак\n",
      "   children days_employed  dob_years  education_id  family_status_id gender  \\\n",
      "0       1.0   8437.673028         42             0                 0      F   \n",
      "1       1.0   4024.803754         36             1                 0      F   \n",
      "2       0.0    5623.42261         33             1                 0      M   \n",
      "3       3.0   4124.747207         32             1                 0      M   \n",
      "4       0.0       1328.18         53             1                 1      F   \n",
      "\n",
      "  income_type  debt  total_income                     purpose  \n",
      "0   сотрудник     0        253875               покупка жилья  \n",
      "1   сотрудник     0        112080     приобретение автомобиля  \n",
      "2   сотрудник     0        145885               покупка жилья  \n",
      "3   сотрудник     0        267628  дополнительное образование  \n",
      "4   пенсионер     0        158616             сыграть свадьбу  \n"
     ]
    }
   ],
   "source": [
    "# Создаем два новых датафрейма:\n",
    "# первый со столбцами 'education_id' и 'education'\n",
    "data_education = data[['education_id','education']]\n",
    "print(data_education.head(5))\n",
    "# второй со столбцами 'family_status_id' и 'family_status'\n",
    "data_family = data[['family_status_id','family_status']]\n",
    "print(data_family.head(5))\n",
    "# удалим из исходного датафрейма столбцы 'education' и 'family_status'\n",
    "data.drop(['education','family_status'], inplace=True, axis=1)\n",
    "print(data.head(5))"
   ]
  },
  {
   "cell_type": "markdown",
   "id": "2fd70664",
   "metadata": {},
   "source": [
    "### Шаг 2.6. Категоризация дохода."
   ]
  },
  {
   "cell_type": "code",
   "execution_count": 12,
   "id": "4988844d",
   "metadata": {},
   "outputs": [
    {
     "data": {
      "text/plain": [
       "C    15922\n",
       "B     5012\n",
       "D      349\n",
       "A       25\n",
       "E       22\n",
       "Name: total_income_category, dtype: int64"
      ]
     },
     "metadata": {},
     "output_type": "display_data"
    }
   ],
   "source": [
    "# создаем функцию для указания заданных категорий в столбце \"total_income_category\"\n",
    "def income_group(income):\n",
    "    if income <= 30000:\n",
    "        return 'E'\n",
    "    if income <= 50000:\n",
    "        return 'D'\n",
    "    if income <= 200000:\n",
    "        return 'C'\n",
    "    if income <= 1000000:\n",
    "        return 'B'\n",
    "    return 'A'\n",
    "# создаем столбец \"total_income_category\" с вышеуказанными категориями \n",
    "data['total_income_category'] = data['total_income'].apply(income_group)\n",
    "display(data['total_income_category'].value_counts()) # выводим данные из столбца \"total_income_category\""
   ]
  },
  {
   "cell_type": "markdown",
   "id": "5dacda3c",
   "metadata": {},
   "source": [
    "### Шаг 2.7. Категоризация целей кредита."
   ]
  },
  {
   "cell_type": "code",
   "execution_count": 14,
   "id": "1700d4c0",
   "metadata": {},
   "outputs": [
    {
     "data": {
      "text/plain": [
       "операции с недвижимостью    10750\n",
       "операции с автомобилем       4279\n",
       "получение образования        3988\n",
       "проведение свадьбы           2313\n",
       "Name: purpose_category, dtype: int64"
      ]
     },
     "metadata": {},
     "output_type": "display_data"
    }
   ],
   "source": [
    "# создаем функцию, которая на основании данных из столбца \"purpose\" сформирует новый столбец \"purpose_category\"\n",
    "# с данными по категориям\n",
    "def purpose_categoried(purpose):\n",
    "    if 'свадьб' in purpose:\n",
    "        return 'проведение свадьбы'\n",
    "    elif 'авто' in purpose:\n",
    "        return 'операции с автомобилем'\n",
    "    elif 'образован' in purpose:\n",
    "        return 'получение образования'\n",
    "    else:\n",
    "# по категории 'операции с недвижимостью' функция будет присваивать данные при не выполнении всех условий        \n",
    "        return 'операции с недвижимостью' \n",
    "data['purpose_category'] = data['purpose'].apply(purpose_categoried)\n",
    "display(data['purpose_category'].value_counts())"
   ]
  },
  {
   "cell_type": "markdown",
   "id": "bb841749",
   "metadata": {},
   "source": [
    "### Ответы на вопросы."
   ]
  },
  {
   "cell_type": "markdown",
   "id": "91e853a3",
   "metadata": {
    "tags": []
   },
   "source": [
    "##### Вопрос 1: Есть ли зависимость между количеством детей и возвратом кредита в срок?"
   ]
  },
  {
   "cell_type": "code",
   "execution_count": 15,
   "id": "61a6253d-0c62-4456-96ea-d2b9ad8521bd",
   "metadata": {},
   "outputs": [
    {
     "data": {
      "text/html": [
       "<div>\n",
       "<style scoped>\n",
       "    .dataframe tbody tr th:only-of-type {\n",
       "        vertical-align: middle;\n",
       "    }\n",
       "\n",
       "    .dataframe tbody tr th {\n",
       "        vertical-align: top;\n",
       "    }\n",
       "\n",
       "    .dataframe thead tr th {\n",
       "        text-align: left;\n",
       "    }\n",
       "\n",
       "    .dataframe thead tr:last-of-type th {\n",
       "        text-align: right;\n",
       "    }\n",
       "</style>\n",
       "<table border=\"1\" class=\"dataframe\">\n",
       "  <thead>\n",
       "    <tr>\n",
       "      <th></th>\n",
       "      <th>sum</th>\n",
       "      <th>count</th>\n",
       "      <th>mean</th>\n",
       "    </tr>\n",
       "    <tr>\n",
       "      <th></th>\n",
       "      <th>debt</th>\n",
       "      <th>debt</th>\n",
       "      <th>debt</th>\n",
       "    </tr>\n",
       "    <tr>\n",
       "      <th>children</th>\n",
       "      <th></th>\n",
       "      <th></th>\n",
       "      <th></th>\n",
       "    </tr>\n",
       "  </thead>\n",
       "  <tbody>\n",
       "    <tr>\n",
       "      <th>0.0</th>\n",
       "      <td>1063</td>\n",
       "      <td>14090</td>\n",
       "      <td>0.075444</td>\n",
       "    </tr>\n",
       "    <tr>\n",
       "      <th>1.0</th>\n",
       "      <td>444</td>\n",
       "      <td>4808</td>\n",
       "      <td>0.092346</td>\n",
       "    </tr>\n",
       "    <tr>\n",
       "      <th>2.0</th>\n",
       "      <td>194</td>\n",
       "      <td>2052</td>\n",
       "      <td>0.094542</td>\n",
       "    </tr>\n",
       "    <tr>\n",
       "      <th>3.0</th>\n",
       "      <td>27</td>\n",
       "      <td>330</td>\n",
       "      <td>0.081818</td>\n",
       "    </tr>\n",
       "    <tr>\n",
       "      <th>4.0</th>\n",
       "      <td>4</td>\n",
       "      <td>41</td>\n",
       "      <td>0.097561</td>\n",
       "    </tr>\n",
       "    <tr>\n",
       "      <th>5.0</th>\n",
       "      <td>0</td>\n",
       "      <td>9</td>\n",
       "      <td>0.000000</td>\n",
       "    </tr>\n",
       "  </tbody>\n",
       "</table>\n",
       "</div>"
      ],
      "text/plain": [
       "           sum  count      mean\n",
       "          debt   debt      debt\n",
       "children                       \n",
       "0.0       1063  14090  0.075444\n",
       "1.0        444   4808  0.092346\n",
       "2.0        194   2052  0.094542\n",
       "3.0         27    330  0.081818\n",
       "4.0          4     41  0.097561\n",
       "5.0          0      9  0.000000"
      ]
     },
     "metadata": {},
     "output_type": "display_data"
    }
   ],
   "source": [
    "# рассчитаем долю не возврата кредита в зависимости от количества детей:\n",
    "display(data.pivot_table(index=['children'], values='debt', aggfunc=['sum','count','mean']))"
   ]
  },
  {
   "cell_type": "markdown",
   "id": "98e42041-b902-4b19-8cff-3501c3791e7a",
   "metadata": {},
   "source": [
    "**Ответ:**\n",
    "\n",
    "При анализе данных выявлено, максимальный % не возврата кредита у клиентов с 4 детьми (хотя таких случаев всего 41). При количестве одного и двух детей процент невозврата практически одинаковый (9,23 и 9,45 соответственно), хотя количество случаев при 1 ребенке более чем в 2 раза превышает при 2 детях. У клиентов с 5 детьми отсутствуют случаи не возврата кредита в срок.\n",
    "\n",
    "**Вопрос 2: Есть ли зависимость между семейным положением и возвратом кредита в срок?**"
   ]
  },
  {
   "cell_type": "code",
   "execution_count": 16,
   "id": "687c3332-9058-4de3-8256-229a03749943",
   "metadata": {},
   "outputs": [
    {
     "data": {
      "text/html": [
       "<div>\n",
       "<style scoped>\n",
       "    .dataframe tbody tr th:only-of-type {\n",
       "        vertical-align: middle;\n",
       "    }\n",
       "\n",
       "    .dataframe tbody tr th {\n",
       "        vertical-align: top;\n",
       "    }\n",
       "\n",
       "    .dataframe thead tr th {\n",
       "        text-align: left;\n",
       "    }\n",
       "\n",
       "    .dataframe thead tr:last-of-type th {\n",
       "        text-align: right;\n",
       "    }\n",
       "</style>\n",
       "<table border=\"1\" class=\"dataframe\">\n",
       "  <thead>\n",
       "    <tr>\n",
       "      <th></th>\n",
       "      <th>sum</th>\n",
       "      <th>count</th>\n",
       "      <th>mean</th>\n",
       "    </tr>\n",
       "    <tr>\n",
       "      <th></th>\n",
       "      <th>debt</th>\n",
       "      <th>debt</th>\n",
       "      <th>debt</th>\n",
       "    </tr>\n",
       "    <tr>\n",
       "      <th>family_status_id</th>\n",
       "      <th></th>\n",
       "      <th></th>\n",
       "      <th></th>\n",
       "    </tr>\n",
       "  </thead>\n",
       "  <tbody>\n",
       "    <tr>\n",
       "      <th>Не женат / не замужем</th>\n",
       "      <td>63</td>\n",
       "      <td>951</td>\n",
       "      <td>0.066246</td>\n",
       "    </tr>\n",
       "    <tr>\n",
       "      <th>в разводе</th>\n",
       "      <td>84</td>\n",
       "      <td>1189</td>\n",
       "      <td>0.070648</td>\n",
       "    </tr>\n",
       "    <tr>\n",
       "      <th>вдовец / вдова</th>\n",
       "      <td>273</td>\n",
       "      <td>2796</td>\n",
       "      <td>0.097639</td>\n",
       "    </tr>\n",
       "    <tr>\n",
       "      <th>гражданский брак</th>\n",
       "      <td>385</td>\n",
       "      <td>4133</td>\n",
       "      <td>0.093153</td>\n",
       "    </tr>\n",
       "    <tr>\n",
       "      <th>женат / замужем</th>\n",
       "      <td>927</td>\n",
       "      <td>12261</td>\n",
       "      <td>0.075606</td>\n",
       "    </tr>\n",
       "  </tbody>\n",
       "</table>\n",
       "</div>"
      ],
      "text/plain": [
       "                       sum  count      mean\n",
       "                      debt   debt      debt\n",
       "family_status_id                           \n",
       "Не женат / не замужем   63    951  0.066246\n",
       "в разводе               84   1189  0.070648\n",
       "вдовец / вдова         273   2796  0.097639\n",
       "гражданский брак       385   4133  0.093153\n",
       "женат / замужем        927  12261  0.075606"
      ]
     },
     "metadata": {},
     "output_type": "display_data"
    }
   ],
   "source": [
    "# рассчитаем процент не возврата кредита в зависимости от семейного положения:\n",
    "# для этого заменим в столбце 'family_status_id' имеющиеся цифры на понятия в соответствии таблицей соответствия:\n",
    "data['family_status_id'] = data['family_status_id'].replace({0:'женат / замужем', 1:'гражданский брак', 2:'Не женат / не замужем', 3:'в разводе',4:'вдовец / вдова'})\n",
    "# рассчитаем долю не возврата кредита в зависимости от семейного положения:\n",
    "display(data.pivot_table(index=['family_status_id'], values='debt', aggfunc=['sum','count','mean']))"
   ]
  },
  {
   "cell_type": "markdown",
   "id": "52eaa882-4b9d-4d26-954b-d27b96a38823",
   "metadata": {},
   "source": [
    "**Ответ:**\n",
    "\n",
    "При анализе данных выявлено, максимальный % не возврата кредита у клиентов с семейным положением \"вдовец / вдова\" и \"гражданский брак\" (9,76 и 9,28 соответственно). Что вполне естественно с моей точки зрения, т.к. существует либо недостаток средств в случае \"вдовы\", либо отсутствие \"семейного\" бюджета\" при проживании в \"гражданском браке\". У клиентов с семейным положением \"не женат\" самая низкий % не возврата - 6,62.\n",
    "\n",
    "**Вопрос 3: Есть ли зависимость между уровнем дохода и возвратом кредита в срок?**"
   ]
  },
  {
   "cell_type": "code",
   "execution_count": 17,
   "id": "753b6531-9e8b-440d-8047-c8a08d75e85c",
   "metadata": {},
   "outputs": [
    {
     "data": {
      "text/html": [
       "<div>\n",
       "<style scoped>\n",
       "    .dataframe tbody tr th:only-of-type {\n",
       "        vertical-align: middle;\n",
       "    }\n",
       "\n",
       "    .dataframe tbody tr th {\n",
       "        vertical-align: top;\n",
       "    }\n",
       "\n",
       "    .dataframe thead tr th {\n",
       "        text-align: left;\n",
       "    }\n",
       "\n",
       "    .dataframe thead tr:last-of-type th {\n",
       "        text-align: right;\n",
       "    }\n",
       "</style>\n",
       "<table border=\"1\" class=\"dataframe\">\n",
       "  <thead>\n",
       "    <tr>\n",
       "      <th></th>\n",
       "      <th>sum</th>\n",
       "      <th>count</th>\n",
       "      <th>mean</th>\n",
       "    </tr>\n",
       "    <tr>\n",
       "      <th></th>\n",
       "      <th>debt</th>\n",
       "      <th>debt</th>\n",
       "      <th>debt</th>\n",
       "    </tr>\n",
       "    <tr>\n",
       "      <th>total_income_category</th>\n",
       "      <th></th>\n",
       "      <th></th>\n",
       "      <th></th>\n",
       "    </tr>\n",
       "  </thead>\n",
       "  <tbody>\n",
       "    <tr>\n",
       "      <th>A</th>\n",
       "      <td>2</td>\n",
       "      <td>25</td>\n",
       "      <td>0.080000</td>\n",
       "    </tr>\n",
       "    <tr>\n",
       "      <th>B</th>\n",
       "      <td>354</td>\n",
       "      <td>5012</td>\n",
       "      <td>0.070630</td>\n",
       "    </tr>\n",
       "    <tr>\n",
       "      <th>C</th>\n",
       "      <td>1353</td>\n",
       "      <td>15922</td>\n",
       "      <td>0.084977</td>\n",
       "    </tr>\n",
       "    <tr>\n",
       "      <th>D</th>\n",
       "      <td>21</td>\n",
       "      <td>349</td>\n",
       "      <td>0.060172</td>\n",
       "    </tr>\n",
       "    <tr>\n",
       "      <th>E</th>\n",
       "      <td>2</td>\n",
       "      <td>22</td>\n",
       "      <td>0.090909</td>\n",
       "    </tr>\n",
       "  </tbody>\n",
       "</table>\n",
       "</div>"
      ],
      "text/plain": [
       "                        sum  count      mean\n",
       "                       debt   debt      debt\n",
       "total_income_category                       \n",
       "A                         2     25  0.080000\n",
       "B                       354   5012  0.070630\n",
       "C                      1353  15922  0.084977\n",
       "D                        21    349  0.060172\n",
       "E                         2     22  0.090909"
      ]
     },
     "metadata": {},
     "output_type": "display_data"
    }
   ],
   "source": [
    "# рассчитаем долю не возврата кредита в зависимости от уровня дохода:\n",
    "display(data.pivot_table(index=['total_income_category'], values='debt', aggfunc=['sum','count','mean']))"
   ]
  },
  {
   "cell_type": "markdown",
   "id": "9ca22dcd-e41f-4a74-8214-f231ee53b11e",
   "metadata": {},
   "source": [
    "**Ответ:**\n",
    "\n",
    "При анализе данных выявлено, максимальный % не возврата кредита у клиентов с уровнем дохода категории E (0–30000) - 9.09. У клиентов с уровнем дохода категории A (выше 1 000 001) и C (50 001–200 000) приблизительно одинаковый % не возврата (8 и 8,49 соответственно). Самый низкий % не возврата у клиентов с уровнем дохода категории D (30 001–50 000) - 6.17.\n",
    "\n",
    "**Вопрос 4: Как разные цели кредита влияют на его возврат в срок?**"
   ]
  },
  {
   "cell_type": "code",
   "execution_count": 18,
   "id": "714bbedb-f0d2-446e-a613-6295f2114cc8",
   "metadata": {},
   "outputs": [
    {
     "data": {
      "text/html": [
       "<div>\n",
       "<style scoped>\n",
       "    .dataframe tbody tr th:only-of-type {\n",
       "        vertical-align: middle;\n",
       "    }\n",
       "\n",
       "    .dataframe tbody tr th {\n",
       "        vertical-align: top;\n",
       "    }\n",
       "\n",
       "    .dataframe thead tr th {\n",
       "        text-align: left;\n",
       "    }\n",
       "\n",
       "    .dataframe thead tr:last-of-type th {\n",
       "        text-align: right;\n",
       "    }\n",
       "</style>\n",
       "<table border=\"1\" class=\"dataframe\">\n",
       "  <thead>\n",
       "    <tr>\n",
       "      <th></th>\n",
       "      <th>sum</th>\n",
       "      <th>count</th>\n",
       "      <th>mean</th>\n",
       "    </tr>\n",
       "    <tr>\n",
       "      <th></th>\n",
       "      <th>debt</th>\n",
       "      <th>debt</th>\n",
       "      <th>debt</th>\n",
       "    </tr>\n",
       "    <tr>\n",
       "      <th>purpose_category</th>\n",
       "      <th></th>\n",
       "      <th></th>\n",
       "      <th></th>\n",
       "    </tr>\n",
       "  </thead>\n",
       "  <tbody>\n",
       "    <tr>\n",
       "      <th>операции с автомобилем</th>\n",
       "      <td>400</td>\n",
       "      <td>4279</td>\n",
       "      <td>0.093480</td>\n",
       "    </tr>\n",
       "    <tr>\n",
       "      <th>операции с недвижимостью</th>\n",
       "      <td>780</td>\n",
       "      <td>10750</td>\n",
       "      <td>0.072558</td>\n",
       "    </tr>\n",
       "    <tr>\n",
       "      <th>получение образования</th>\n",
       "      <td>369</td>\n",
       "      <td>3988</td>\n",
       "      <td>0.092528</td>\n",
       "    </tr>\n",
       "    <tr>\n",
       "      <th>проведение свадьбы</th>\n",
       "      <td>183</td>\n",
       "      <td>2313</td>\n",
       "      <td>0.079118</td>\n",
       "    </tr>\n",
       "  </tbody>\n",
       "</table>\n",
       "</div>"
      ],
      "text/plain": [
       "                          sum  count      mean\n",
       "                         debt   debt      debt\n",
       "purpose_category                              \n",
       "операции с автомобилем    400   4279  0.093480\n",
       "операции с недвижимостью  780  10750  0.072558\n",
       "получение образования     369   3988  0.092528\n",
       "проведение свадьбы        183   2313  0.079118"
      ]
     },
     "metadata": {},
     "output_type": "display_data"
    }
   ],
   "source": [
    "# рассчитаем долю не возврата кредита в зависимости от цели кредита:\n",
    "display(data.pivot_table(index=['purpose_category'], values='debt', aggfunc=['sum','count','mean']))"
   ]
  },
  {
   "cell_type": "markdown",
   "id": "83749141-c6b3-4590-bd75-706d59d8731b",
   "metadata": {},
   "source": [
    "**Ответ:**\n",
    "\n",
    "При анализе данных выявлено, максимальный % не возврата кредита у клиентов с целью кредита \"операции с автомобилем\" и \"получение образования\" (9,34 и 9,25 соответственно). Самый низкий % не возврата у клиентов с целью кредита \"операции с недвижимостью\"- 7,25. Количество клиентов с целью кредита \"операции с недвижимостью\" сопоставимо с суммой количества клиентов по оставшимся трем категориям."
   ]
  },
  {
   "cell_type": "markdown",
   "id": "8f07c736",
   "metadata": {},
   "source": [
    "## Общий вывод:"
   ]
  },
  {
   "cell_type": "markdown",
   "id": "d5630d27",
   "metadata": {},
   "source": [
    "При проведении исследования предоставленой банком статистики о платёжеспособности клиентов были выявлены зависимости между семейным положением клиента и количеством детей на факт погашения кредита в срок. Максимальный процент не возврата кредита у клиентов с семейным положением \"вдовец / вдова\" и \"гражданский брак\" (9,76 и 9,28 соответственно), а также у клиентов с 4 детьми (9.76). Клиенты, входящие в данные категории являются клиентами с максимальной степенью риска не возврата кредита.\n",
    "Надежнее выдавать кредиты клиентам с отсутствием детей и семейным положением \"женат / замужем\", данные категории с больше вероятностью смогут погасить кредиты в установленные договором сроки. Кроме того, клиенты из указанных категорий более часто обращаются в банк за предоставлением кредита, что также более выгодно для банка."
   ]
  },
  {
   "cell_type": "code",
   "execution_count": null,
   "id": "5c22317a-ffc3-4fc3-807f-212008752df4",
   "metadata": {},
   "outputs": [],
   "source": []
  }
 ],
 "metadata": {
  "kernelspec": {
   "display_name": "Python 3 (ipykernel)",
   "language": "python",
   "name": "python3"
  },
  "language_info": {
   "codemirror_mode": {
    "name": "ipython",
    "version": 3
   },
   "file_extension": ".py",
   "mimetype": "text/x-python",
   "name": "python",
   "nbconvert_exporter": "python",
   "pygments_lexer": "ipython3",
   "version": "3.11.1"
  },
  "toc": {
   "base_numbering": 1,
   "nav_menu": {},
   "number_sections": true,
   "sideBar": true,
   "skip_h1_title": true,
   "title_cell": "Table of Contents",
   "title_sidebar": "Contents",
   "toc_cell": false,
   "toc_position": {},
   "toc_section_display": true,
   "toc_window_display": false
  }
 },
 "nbformat": 4,
 "nbformat_minor": 5
}

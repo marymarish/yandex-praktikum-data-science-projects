{
 "cells": [
  {
   "cell_type": "markdown",
   "id": "7c28646a",
   "metadata": {},
   "source": [
    "# Borrower Reliability Study."
   ]
  },
  {
   "cell_type": "markdown",
   "id": "62b78ca6",
   "metadata": {},
   "source": [
    "### Step 1. Data Overview"
   ]
  },
  {
   "cell_type": "code",
   "execution_count": 2,
   "id": "9c60221f",
   "metadata": {},
   "outputs": [
    {
     "name": "stdout",
     "output_type": "stream",
     "text": [
      "   children  days_employed  dob_years education  education_id  \\\n",
      "0         1   -8437.673028         42   higher              0   \n",
      "1         1   -4024.803754         36   secondary           1   \n",
      "2         0   -5623.422610         33   Secondary           1   \n",
      "3         3   -4124.747207         32   secondary           1   \n",
      "4         0  340266.072047         53   secondary           1   \n",
      "\n",
      "      family_status  family_status_id gender income_type  debt   total_income  \\\n",
      "0   married                  0      F   employee         0  253875.639453   \n",
      "1   married                  0      F   employee         0  112080.014102   \n",
      "2   married                  0      M   employee         0  145885.952297   \n",
      "3   married                  0      M   employee         0  267628.550329   \n",
      "4  civil marriage            1      F   retiree          0  158616.077870   \n",
      "\n",
      "                      purpose  \n",
      "0               home purchase  \n",
      "1     car acquisition          \n",
      "2               home purchase  \n",
      "3  additional education        \n",
      "4             wedding          \n",
      "<class 'pandas.core.frame.DataFrame'>\n",
      "RangeIndex: 21525 entries, 0 to 21524\n",
      "Data columns (total 12 columns):\n",
      " #   Column            Non-Null Count  Dtype  \n",
      "---  ------            --------------  -----  \n",
      " 0   children          21525 non-null  int64  \n",
      " 1   days_employed     19351 non-null  float64\n",
      " 2   dob_years         21525 non-null  int64  \n",
      " 3   education         21525 non-null  object \n",
      " 4   education_id      21525 non-null  int64  \n",
      " 5   family_status     21525 non-null  object \n",
      " 6   family_status_id  21525 non-null  int64  \n",
      " 7   gender            21525 non-null  object \n",
      " 8   income_type       21525 non-null  object \n",
      " 9   debt              21525 non-null  int64  \n",
      " 10  total_income      19351 non-null  float64\n",
      " 11  purpose           21525 non-null  object \n",
      "dtypes: float64(2), int64(5), object(5)\n",
      "memory usage: 2.0+ MB\n"
     ]
    }
   ],
   "source": [
    "import pandas as pd\n",
    "data = pd.read_csv('/datasets/data.csv') # reading file contents and saving in the dataframe 'data'\n",
    "print(data.head()) # getting familiar with the data\n",
    "data.info() # assessing the data volume in the table"
   ]
  },
  {
   "cell_type": "markdown",
   "id": "c57294bf",
   "metadata": {},
   "source": [
    "### Step 2.1 Filling in Missing Values"
   ]
  },
  {
   "cell_type": "code",
   "execution_count": 3,
   "id": "6a78a628",
   "metadata": {},
   "outputs": [
    {
     "name": "stdout",
     "output_type": "stream",
     "text": [
      "0.8990011614401858\n",
      "0.8990011614401858\n",
      "<class 'pandas.core.frame.DataFrame'>\n",
      "RangeIndex: 21525 entries, 0 to 21524\n",
      "Data columns (total 12 columns):\n",
      " #   Column            Non-Null Count  Dtype  \n",
      "---  ------            --------------  -----  \n",
      " 0   children          21525 non-null  int64  \n",
      " 1   days_employed     21525 non-null  float64\n",
      " 2   dob_years         21525 non-null  int64  \n",
      " 3   education         21525 non-null  object \n",
      " 4   education_id      21525 non-null  int64  \n",
      " 5   family_status     21525 non-null  object \n",
      " 6   family_status_id  21525 non-null  int64  \n",
      " 7   gender            21525 non-null  object \n",
      " 8   income_type       21525 non-null  object \n",
      " 9   debt              21525 non-null  int64  \n",
      " 10  total_income      21525 non-null  float64\n",
      " 11  purpose           21525 non-null  object \n",
      "dtypes: float64(2), int64(5), object(5)\n",
      "memory usage: 2.0+ MB\n"
     ]
    }
],
     "source": [
        "# From the obtained data overview, it was revealed that the columns 'days_employed' and 'total_income' contain missing values\n",
        "# Determine the proportion of missing values in the 'days_employed' column\n",
        "print(data['days_employed'].count() / data['children'].count())\n",
        "# Also determine the proportion of missing values in the 'total_income' column\n",
        "print(data['total_income'].count()/data['children'].count())\n",
        "\n",
        "# Based on the identical number of missing values in the columns 'days_employed' and 'total_income', it can be assumed \n",
        "# that the possible cause of the missing values is the absence of the borrower's employment record, and accordingly, the absence of monthly income.\n",
        "\n",
        "# It is more accurate to apply the median value when some values stand out significantly from the majority.\n",
        "# Filling in the missing values with the median value of the 'days_employed' column\n",
        "data['days_employed'] = data['days_employed'].fillna(data['days_employed'].median())\n",
        "# Filling in the missing values with the median value of the 'total_income' column\n",
        "data['total_income'] = data['total_income'].fillna(data['total_income'].median())\n",
        "\n",
        "# Check: missing values are absent, and the data types of the 'days_employed' and 'total_income' columns remain 'float64'\n",
        "data.info()"
     ]
  },
  {
     "cell_type": "markdown",
     "id": "841b572b",
     "metadata": {},
     "source": [
        "### Step 2.2 Check for Anomalies and Corrections"
     ]
  },
  {
     "cell_type": "code",
     "execution_count": 4,
     "id": "ff2aa49d",
     "metadata": {},
     "outputs": [
        {
           "name": "stdout",
           "output_type": "stream",
           "text": [
              "0      8437.673028\n",
              "1      4024.803754\n",
              "2      5623.422610\n",
              "3      4124.747207\n",
              "4    340266.072047\n",
              "Name: days_employed, dtype: float64\n"
           ]
        }
     ],
     "source": [
        "# To exclude anomalies, let's pay attention to the 'days_employed' column, which contains negative values,\n",
        "# corresponding to the possible work experience of the borrower based on their age.\n",
        "# To exclude anomalies in the 'days_employed' column, we will change negative values to positive ones.\n",
        "data['days_employed'] = data.loc[:,'days_employed'].abs()\n",
        "print(data['days_employed'].head(5))"
     ]
  },
  {
     "cell_type": "code",
     "execution_count": 5,
     "id": "26395360-7f28-4d09-8092-c51f4319e624",
     "metadata": {},
     "outputs": [
        {
           "name": "stdout",
           "output_type": "stream",
           "text": [
              "3450\n"
           ]
        }
     ],
     "source": [
        "# It's also clear that there are anomalous data in this column with work experience exceeding 100 years (e.g., row 5)\n",
        "# Let's calculate the number of rows with work experience over 45 years.\n",
        "print(data['days_employed'][data['days_employed'] > 16000].count())"
     ]
  },
  {
     "cell_type": "code",
     "execution_count": 6,
     "id": "5c38ffc0-3328-4b64-8e07-71a548eddffc",
     "metadata": {},
     "outputs": [
        {
           "name": "stdout",
           "output_type": "stream",
           "text": [
              "1328.1808865308271\n"
           ]
        }
     ],
     "source": [
        "# Calculate the median value for the 'days_employed' column for work experience less than 30 years.\n",
        "print(data[data['days_employed'] < 10950]['days_employed'].median()) # result: 1328.18 days\n",
        "# Fill the anomalous values with the median value of the 'days_employed' column for work experience less than 30 years.\n",
        "data.loc[data['days_employed'] > 10950, 'days_employed'] = '1328.18'"
     ]
  },
  {
     "cell_type": "code",
     "execution_count": 7,
     "id": "105d6341-3332-4f0b-9c2b-0dfa6bc2c2a1",
     "metadata": {},
     "outputs": [
        {
           "name": "stdout",
           "output_type": "stream",
           "text": [
              "F    14236\n",
              "M     7288\n",
              "Name: gender, dtype: int64\n"
           ]
        }
     ],
     "source": [
        "# Additionally, in the 'gender' column, a client with the gender label 'XNA' was found in the amount of 1 occurrence.\n",
        "# We'll delete this row due to its insignificance.\n",
        "data.loc[data['gender'] == 'XNA','gender'] = None\n",
        "data = data.dropna(subset=['gender'])\n",
        "# Check the 'gender' column after deletion, only F and M remain\n",
        "print(data['gender'].value_counts())"
     ]
  },
  {
     "cell_type": "code",
     "execution_count": 8,
     "id": "95b3e068-2da6-4ec2-bd2b-2de59469ba5c",
     "metadata": {},
     "outputs": [
        {
           "name": "stdout",
           "output_type": "stream",
           "text": [
              "0.0    14148\n",
              "1.0     4818\n",
              "2.0     2055\n",
              "3.0      330\n",
              "4.0       41\n",
              "5.0        9\n",
              "Name: children, dtype: int64\n"
           ]
        }
     ],
     "source": [
        "# In the 'children' column, we found the number of children to be '-1' in 1 instance, and '20' in 76 instances.\n",
        "# The appearance of these anomalous values could be due to human error during data entry.\n",
        "# We'll also delete these rows as they are insignificant.\n",
        "data.loc[data['children'] == -1, 'children'] = None\n",
        "data.loc[data['children'] == 20,'children'] = None\n",
        "data = data.dropna(subset=['children'])\n",
        "print(data['children'].value_counts())"
     ]
  },
  {
     "cell_type": "markdown",
     "id": "3fc78259",
     "metadata": {},
     "source": [
        "### Step 2.3: Changing Data Types."
     ]
  },
  {
     "cell_type": "code",
     "execution_count": 9,
     "id": "46ca101f",
     "metadata": {},
     "outputs": [
        {
           "name": "stdout",
           "output_type": "stream",
           "text": [
              "0    253875\n",
              "1    112080\n",
              "2    145885\n",
              "3    267628\n",
              "4    158616\n",
              "Name: total_income, dtype: int32\n"
           ]
        }
     ],
     "source": [
        "# Let's convert the data type in the 'total_income' column from float to integer.\n",
        "data['total_income'] = data['total_income'].astype('int')\n",
        "print(data['total_income'].head())"
     ]
  },
  {
     "cell_type": "markdown",
     "id": "8e824159",
     "metadata": {},
     "source": [
        "### Step 2.4: Removing Duplicates."
     ]
  },
  {
     "cell_type": "code",
     "execution_count": 10,
     "id": "5e50328e",
     "metadata": {},
     "outputs": [
        {
           "name": "stdout",
           "output_type": "stream",
           "text": [
              "['higher' 'secondary' 'incomplete higher' 'primary' 'academic degree']\n",
              "71\n",
              "0\n"
           ]
        }
     ],
     "source": [
        "# To exclude implicit duplicates in the 'education' column, we will convert all characters in the 'education' column to lowercase.\n",
        "data['education'] = data['education'].str.lower()\n",
        "print(data['education'].unique()) # Display all unique values in the 'education' column.\n",
        "\n",
        "# For duplicate removal, data processing was carried out as follows:\n",
        "# Missing values in the columns were filled in Step 2.1;\n",
        "# Anomalous values were handled in Step 2.2;\n",
        "# Implicit duplicates (case normalization) were handled in the previous task;\n",
        "# Now, we will remove explicit duplicates:\n",
        " \n",
        "print(data.duplicated().sum()) # Number of duplicates - 71\n",
        "# Clean the table of duplicates with new indexing and remove the old indexing.\n",
        "data = data.drop_duplicates().reset_index(drop=True)\n",
        "# Check the number of duplicates in the table.\n",
        "print(data.duplicated().sum()) # Number of duplicates - 0"
     ]
  },
  {
     "cell_type": "markdown",
     "id": "4da9060d",
     "metadata": {},
     "source": [
        "### Step 2.5: Creating Additional DataFrame Dictionaries, Decomposing the Original DataFrame."
     ]
  },
  {
     "cell_type": "code",
     "execution_count": 11,
     "id": "d22b70cd",
     "metadata": {},
     "outputs": [
        {
           "name": "stdout",
           "output_type": "stream",
           "text": [
              "   education_id education\n",
              "0             0    higher education\n",
              "1             1   secondary education\n",
              "2             1   secondary education\n",
              "3             1   secondary education\n",
              "4             1   secondary education\n",
              "   family_status_id     family_status\n",
              "0                 0   married / spouse\n",
              "1                 0   married / spouse\n",
              "2                 0   married / spouse\n",
              "3                 0   married / spouse\n",
              "4                 1  civil marriage\n",
              "   children days_employed  dob_years  education_id  family_status_id gender  \\\n",
              "0       1.0   8437.673028         42             0                 0      F   \n",
              "1       1.0   4024.803754         36             1                 0      F   \n",
              "2       0.0    5623.42261         33             1                 0      M   \n",
              "3       3.0   4124.747207         32             1                 0      M   \n",
              "4       0.0       1328.18         53             1                 1      F   \n",
              "\n",
              "  income_type  debt  total_income                     purpose  \n",
              "0   employee     0        253875               real estate purchase  \n",
              "1   employee     0        112080     vehicle acquisition  \n",
              "2   employee     0        145885               real estate purchase  \n",
              "3   employee     0        267628  additional education  \n",
              "4   retiree     0        158616             wedding celebration  \n"
           ]
        }
     ],
     "source": [
        "# Create two new dataframes:\n",
        "# First with the columns 'education_id' and 'education'\n",
        "data_education = data[['education_id','education']]\n",
        "print(data_education.head(5))\n",
        "# Second with the columns 'family_status_id' and 'family_status'\n",
        "data_family = data[['family_status_id','family_status']]\n",
        "print(data_family.head(5))\n",
        "# Remove the 'education' and 'family_status' columns from the original dataframe\n",
        "data.drop(['education','family_status'], inplace=True, axis=1)\n",
        "print(data.head(5))"
     ]
  },
  {
     "cell_type": "markdown",
     "id": "2fd70664",
     "metadata": {},
     "source": [
        "### Step 2.6: Categorizing Income."
     ]
  },
  {
     "cell_type": "code",
     "execution_count": 12,
     "id": "4988844d",
     "metadata": {},
     "outputs": [
        {
           "data": {
              "text/plain": [
                 "C    15922\n",
                 "B     5012\n",
                 "D      349\n",
                 "A       25\n",
                 "E       22\n",
                 "Name: total_income_category, dtype: int64"
              ]
           },
           "metadata": {},
           "output_type": "display_data"
        }
     ],
     "source": [
        "# Create a function to assign income categories in the 'total_income_category' column\n",
        "def income_group(income):\n",
        "    if income <= 30000:\n",
        "        return 'E'\n",
        "    if income <= 50000:\n",
        "        return 'D'\n",
        "    if income <= 200000:\n",
        "        return 'C'\n",
        "    if income <= 1000000:\n",
        "        return 'B'\n",
        "    return 'A'\n",
        "# Create the 'total_income_category' column with the assigned categories\n",
        "data['total_income_category'] = data['total_income'].apply(income_group)\n",
        "display(data['total_income_category'].value_counts()) # Display data from 'total_income_category' column"
     ]
  },
  {
     "cell_type": "markdown",
     "id": "5dacda3c",
     "metadata": {},
     "source": [
        "### Step 2.7: Categorizing Loan Purposes."
     ]
  },
  {
     "cell_type": "code",
     "execution_count": 14,
     "id": "1700d4c0",
     "metadata": {},
     "outputs": [
        {
           "data": {
              "text/plain": [
                 "real estate transactions    10750\n",
                 "vehicle transactions         4279\n",
                 "education acquisition        3988\n",
                 "wedding celebration           2313\n",
                 "Name: purpose_category, dtype: int64"
              ]
           },
           "metadata": {},
           "output_type": "display_data"
        }
   ],
   "source": [
      "# Create a function that, based on the 'purpose' column, will create a new column 'purpose_category'\n",
      "# with data by categories\n",
      "def purpose_categoried(purpose):\n",
      "    if 'wedding' in purpose:\n",
      "        return 'wedding celebration'\n",
      "    elif 'car' in purpose:\n",
      "        return 'vehicle transactions'\n",
      "    elif 'education' in purpose:\n",
      "        return 'education acquisition'\n",
      "    else:\n",
      "# For the category 'real estate transactions,' the function will assign this when none of the conditions are met\n",
      "        return 'real estate transactions'\n",
      "data['purpose_category'] = data['purpose'].apply(purpose_categoried)\n",
      "display(data['purpose_category'].value_counts())"
   ],
},
{
   "cell_type": "markdown",
   "id": "bb841749",
   "metadata": {},
   "source": [
      "### Answers to Questions."
   ]
},
{
   "cell_type": "markdown",
   "id": "91e853a3",
   "metadata": {
      "tags": []
   },
   "source": [
      "##### Question 1: Is there a relationship between the number of children and on-time loan repayment?"
   ]
},
{
   "cell_type": "code",
   "execution_count": 15,
   "id": "61a6253d-0c62-4456-96ea-d2b9ad8521bd",
   "metadata": {},
   "outputs": [
      {
         "data": {
            "text/html": [
               "<div>\n",
               "<style scoped>\n",
               "    .dataframe tbody tr th:only-of-type {\n",
               "        vertical-align: middle;\n",
               "    }\n",
               "    .dataframe tbody tr th {\n",
               "        vertical-align: top;\n",
               "    }\n",
               "    .dataframe thead tr th {\n",
               "        text-align: left;\n",
               "    }\n",
               "    .dataframe thead tr:last-of-type th {\n",
               "        text-align: right;\n",
               "    }\n",
               "</style>\n",
               "<table border=\"1\" class=\"dataframe\">\n",
               "  <thead>\n",
               "    <tr>\n",
               "      <th></th>\n",
               "      <th>sum</th>\n",
               "      <th>count</th>\n",
               "      <th>mean</th>\n",
               "    </tr>\n",
               "    <tr>\n",
               "      <th></th>\n",
               "      <th>debt</th>\n",
               "      <th>debt</th>\n",
               "      <th>debt</th>\n",
               "    </tr>\n",
               "    <tr>\n",
               "      <th>children</th>\n",
               "      <th></th>\n",
               "      <th></th>\n",
               "      <th></th>\n",
               "    </tr>\n",
               "  </thead>\n",
               "  <tbody>\n",
               "    <tr>\n",
               "      <th>0.0</th>\n",
               "      <td>1063</td>\n",
               "      <td>14090</td>\n",
               "      <td>0.075444</td>\n",
               "    </tr>\n",
               "    <tr>\n",
               "      <th>1.0</th>\n",
               "      <td>444</td>\n",
               "      <td>4808</td>\n",
               "      <td>0.092346</td>\n",
               "    </tr>\n",
               "    <tr>\n",
               "      <th>2.0</th>\n",
               "      <td>194</td>\n",
               "      <td>2052</td>\n",
               "      <td>0.094542</td>\n",
               "    </tr>\n",
               "    <tr>\n",
               "      <th>3.0</th>\n",
               "      <td>27</td>\n",
               "      <td>330</td>\n",
               "      <td>0.081818</td>\n",
               "    </tr>\n",
               "    <tr>\n",
               "      <th>4.0</th>\n",
               "      <td>4</td>\n",
               "      <td>41</td>\n",
               "      <td>0.097561</td>\n",
               "    </tr>\n",
               "    <tr>\n",
               "      <th>5.0</th>\n",
               "      <td>0</td>\n",
               "      <td>9</td>\n",
               "      <td>0.000000</td>\n",
               "    </tr>\n",
               "  </tbody>\n",
               "</table>\n",
               "</div>"
            ],
            "text/plain": [
               "           sum  count      mean\n",
               "          debt   debt      debt\n",
               "children                       \n",
               "0.0       1063  14090  0.075444\n",
               "1.0        444   4808  0.092346\n",
               "2.0        194   2052  0.094542\n",
               "3.0         27    330  0.081818\n",
               "4.0          4     41  0.097561\n",
               "5.0          0      9  0.000000"
            ]
         },
         "metadata": {},
         "output_type": "display_data"
      }
   ],
   "source": [
      "# Calculate the share of loan non-repayment depending on the number of children:\n",
      "display(data.pivot_table(index=['children'], values='debt', aggfunc=['sum','count','mean']))"
   ]
},
{
   "cell_type": "markdown",
   "id": "98e42041-b902-4b19-8cff-3501c3791e7a",
   "metadata": {},
   "source": [
      "**Answer:**\n",
      "\n",
      "Analysis shows that the highest % of loan non-repayment is among clients with 4 children (though there are only 41 such cases). The percentage of non-repayment is almost the same for clients with one and two children (9.23 and 9.45 respectively), even though the number of cases with 1 child is more than twice that of 2 children. Clients with 5 children have no cases of loan non-repayment.\n",
      "\n",
      "**Question 2: Is there a relationship between marital status and on-time loan repayment?**"
   ]
},
{
   "cell_type": "code",
   "execution_count": 16,
   "id": "687c3332-9058-4de3-8256-229a03749943",
   "metadata": {},
   "outputs": [
      {
         "data": {
            "text/html": [
               "<div>\n",
               "<style scoped>\n",
               "    .dataframe tbody tr th:only-of-type {\n",
               "        vertical-align: middle;\n",
               "    }\n",
               "    .dataframe tbody tr th {\n",
               "        vertical-align: top;\n",
               "    }\n",
               "    .dataframe thead tr th {\n",
               "        text-align: left;\n",
               "    }\n",
               "    .dataframe thead tr:last-of-type th {\n",
               "        text-align: right;\n",
               "    }\n",
               "</style>\n",
               "<table border=\"1\" class=\"dataframe\">\n",
               "  <thead>\n",
               "    <tr>\n",
               "      <th></th>\n",
               "      <th>sum</th>\n",
               "      <th>count</th>\n",
               "      <th>mean</th>\n",
               "    </tr>\n",
               "    <tr>\n",
               "      <th></th>\n",
               "      <th>debt</th>\n",
               "      <th>debt</th>\n",
               "      <th>debt</th>\n",
               "    </tr>\n",
               "    <tr>\n",
               "      <th>family_status_id</th>\n",
               "      <th></th>\n",
               "      <th></th>\n",
               "      <th></th>\n",
               "    </tr>\n",
               "  </thead>\n",
               "  <tbody>\n",
               "    <tr>\n",
               "      <th>Not married / not divorced</th>\n",
               "      <td>63</td>\n",
               "      <td>951</td>\n",
               "      <td>0.066246</td>\n",
               "    </tr>\n",
               "    <tr>\n",
               "      <th>Divorced</th>\n",
               "      <td>84</td>\n",
               "      <td>1189</td>\n",
               "      <td>0.070648</td>\n",
               "    </tr>\n",
               "    <tr>\n",
               "      <th>Widower / Widow</th>\n",
               "      <td>273</td>\n",
               "      <td>2796</td>\n",
               "      <td>0.097639</td>\n",
               "    </tr>\n",
               "    <tr>\n",
               "      <th>Cohabiting</th>\n",
               "      <td>385</td>\n",
               "      <td>4133</td>\n",
               "      <td>0.093153</td>\n",
               "    </tr>\n",
               "    <tr>\n",
               "      <th>Married</th>\n",
               "      <td>927</td>\n",
               "      <td>12261</td>\n",
               "      <td>0.075606</td>\n",
               "    </tr>\n",
               "  </tbody>\n",
               "</table>\n",
               "</div>"
            ],
            "text/plain": [
               "                       sum  count      mean\n",
               "                      debt   debt      debt\n",
               "family_status_id                           \n",
               "Not married / not divorced   63    951  0.066246\n",
               "Divorced                     84   1189  0.070648\n",
               "Widower / Widow             273   2796  0.097639\n",
               "Cohabiting                  385   4133  0.093153\n",
               "Married                     927  12261  0.075606"
            ]
         },
         "metadata": {},
         "output_type": "display_data"
      }
   ],
   "source": [
      "# Calculate the percentage of loan non-repayment depending on marital status:\n",
      "# For this, replace the numbers in the 'family_status_id' column with terms according to the mapping table:\n",
      "data['family_status_id'] = data['family_status_id'].replace({0:'Married', 1:'Cohabiting', 2:'Not married / not divorced', 3:'Divorced', 4:'Widower / Widow'})\n",
      "# Calculate the share of loan non-repayment depending on marital status:\n",
      "display(data.pivot_table(index=['family_status_id'], values='debt', aggfunc=['sum','count','mean']))"
   ]
},
{
   "cell_type": "markdown",
   "id": "52eaa882-4b9d-4d26-954b-d27b96a38823",
   "metadata": {},
   "source": [
      "**Answer:**\n",
      "\n",
      "Analysis shows that the highest % of loan non-repayment is among clients with marital statuses \"Widower / Widow\" and \"Cohabiting\" (9.76 and 9.28 respectively). This is quite natural from my perspective, as there may be a lack of funds in the case of a \"Widow\" or a lack of a \"family\" budget when living in a \"Cohabiting\" situation. Clients with the marital status \"Not married\" have the lowest % of non-repayment - 6.62.\n",
      "\n",
      "**Question 3: Is there a relationship between income level and on-time loan repayment?**"
   ]
},
{
   "cell_type": "code",
   "execution_count": 17,
   "id": "753b6531-9e8b-440d-8047-c8a08d75e85c",
   "metadata": {},
   "outputs": [
      {
         "data": {
            "text/html": [
               "<div>\n",
               "<style scoped>\n",
               "    .dataframe tbody tr th:only-of-type {\n",
               "        vertical-align: middle;\n",
               "    }\n",
               "    .dataframe tbody tr th {\n",
               "        vertical-align: top;\n",
               "    }\n",
               "    .dataframe thead tr th {\n",
               "        text-align: left;\n",
               "    }\n",
               "    .dataframe thead tr:last-of-type th {\n",
               "        text-align: right;\n",
               "    }\n",
               "</style>\n",
               "<table border=\"1\" class=\"dataframe\">\n",
               "  <thead>\n",
               "    <tr>\n",
               "      <th></th>\n",
               "      <th>sum</th>\n",
               "      <th>count</th>\n",
               "      <th>mean</th>\n",
               "    </tr>\n",
               "    <tr>\n",
               "      <th></th>\n",
               "      <th>debt</th>\n",
               "      <th>debt</th>\n",
               "      <th>debt</th>\n",
               "    </tr>\n",
               "    <tr>\n",
               "      <th>total_income_category</th>\n",
               "      <th></th>\n",
               "      <th></th>\n",
               "      <th></th>\n",
               "    </tr>\n",
               "  </thead>\n",
               "  <tbody>\n",
               "    <tr>\n",
               "      <th>A</th>\n",
               "      <td>2</td>\n",
               "      <td>25</td>\n",
               "      <td>0.080000</td>\n",
               "    </tr>\n",
               "    <tr>\n",
               "      <th>B</th>\n",
               "      <td>354</td>\n",
               "      <td>5012</td>\n",
               "      <td>0.070630</td>\n",
               "    </tr>\n",
               "    <tr>\n",
               "      <th>C</th>\n",
               "      <td>1353</td>\n",
               "      <td>15922</td>\n",
               "      <td>0.084977</td>\n",
               "    </tr>\n",
               "    <tr>\n",
               "      <th>D</th>\n",
               "      <td>21</td>\n",
               "      <td>349</td>\n",
               "      <td>0.060172</td>\n",
               "    </tr>\n",
               "    <tr>\n",
               "      <th>E</th>\n",
               "      <td>2</td>\n",
               "      <td>22</td>\n",
               "      <td>0.090909</td>\n",
               "    </tr>\n",
               "  </tbody>\n",
               "</table>\n",
               "</div>"
            ],
            "text/plain": [
               "                        sum  count      mean\n",
               "                       debt   debt      debt\n",
               "total_income_category                       \n",
               "A                         2     25  0.080000\n",
               "B                       354   5012  0.070630\n",
               "C                      1353  15922  0.084977\n",
               "D                        21    349  0.060172\n",
               "E                         2     22  0.090909"
            ]
         },
         "metadata": {},
         "output_type": "display_data"
      }
   ],
   "source": [
      "# Calculate the share of loan non-repayment depending on income level:\n",
      "display(data.pivot_table(index=['total_income_category'], values='debt', aggfunc=['sum','count','mean']))"
   ]
  },
{
   "cell_type": "markdown",
   "id": "9ca22dcd-e41f-4a74-8214-f231ee53b11e",
   "metadata": {},
   "source": [
      "**Answer:**\n",
      "\n",
      "Analysis reveals that the highest % of loan non-repayment is among clients in income category E (0–30,000) - 9.09. Clients in income categories A (over 1,000,001) and C (50,001–200,000) have approximately the same % of non-repayment (8 and 8.49 respectively). The lowest % of non-repayment is among clients in income category D (30,001–50,000) - 6.17.\n",
      "\n",
      "**Question 4: How do different loan purposes affect timely repayment?**"
   ]
},
{
   "cell_type": "code",
   "execution_count": 18,
   "id": "714bbedb-f0d2-446e-a613-6295f2114cc8",
   "metadata": {},
   "outputs": [
      {
         "data": {
            "text/html": [
               "<div>\n",
               "<style scoped>\n",
               "    .dataframe tbody tr th:only-of-type {\n",
               "        vertical-align: middle;\n",
               "    }\n",
               "    .dataframe tbody tr th {\n",
               "        vertical-align: top;\n",
               "    }\n",
               "    .dataframe thead tr th {\n",
               "        text-align: left;\n",
               "    }\n",
               "    .dataframe thead tr:last-of-type th {\n",
               "        text-align: right;\n",
               "    }\n",
               "</style>\n",
               "<table border=\"1\" class=\"dataframe\">\n",
               "  <thead>\n",
               "    <tr>\n",
               "      <th></th>\n",
               "      <th>sum</th>\n",
               "      <th>count</th>\n",
               "      <th>mean</th>\n",
               "    </tr>\n",
               "    <tr>\n",
               "      <th></th>\n",
               "      <th>debt</th>\n",
               "      <th>debt</th>\n",
               "      <th>debt</th>\n",
               "    </tr>\n",
               "    <tr>\n",
               "      <th>purpose_category</th>\n",
               "      <th></th>\n",
               "      <th></th>\n",
               "      <th></th>\n",
               "    </tr>\n",
               "  </thead>\n",
               "  <tbody>\n",
               "    <tr>\n",
               "      <th>car operations</th>\n",
               "      <td>400</td>\n",
               "      <td>4279</td>\n",
               "      <td>0.093480</td>\n",
               "    </tr>\n",
               "    <tr>\n",
               "      <th>real estate operations</th>\n",
               "      <td>780</td>\n",
               "      <td>10750</td>\n",
               "      <td>0.072558</td>\n",
               "    </tr>\n",
               "    <tr>\n",
               "      <th>education</th>\n",
               "      <td>369</td>\n",
               "      <td>3988</td>\n",
               "      <td>0.092528</td>\n",
               "    </tr>\n",
               "    <tr>\n",
               "      <th>wedding</th>\n",
               "      <td>183</td>\n",
               "      <td>2313</td>\n",
               "      <td>0.079118</td>\n",
               "    </tr>\n",
               "  </tbody>\n",
               "</table>\n",
               "</div>"
            ],
            "text/plain": [
               "                          sum  count      mean\n",
               "                         debt   debt      debt\n",
               "purpose_category                              \n",
               "car operations           400   4279  0.093480\n",
               "real estate operations   780  10750  0.072558\n",
               "education                369   3988  0.092528\n",
               "wedding                  183   2313  0.079118"
            ]
         },
         "metadata": {},
         "output_type": "display_data"
      }
   ],
   "source": [
      "# Calculate the share of loan non-repayment depending on the loan purpose:\n",
      "display(data.pivot_table(index=['purpose_category'], values='debt', aggfunc=['sum','count','mean']))"
   ]
},
{
   "cell_type": "markdown",
   "id": "83749141-c6b3-4590-bd75-706d59d8731b",
   "metadata": {},
   "source": [
      "**Answer:**\n",
      "\n",
      "Analysis shows that the highest % of loan non-repayment is among clients with loan purposes \"car operations\" and \"education\" (9.34 and 9.25 respectively). The lowest % of non-repayment is among clients with the loan purpose \"real estate operations\" - 7.25. The number of clients with the loan purpose \"real estate operations\" is comparable to the total number of clients in the other three categories."
   ]
},
{
   "cell_type": "markdown",
   "id": "8f07c736",
   "metadata": {},
   "source": [
      "## General Conclusion:"
   ]
},
{
   "cell_type": "markdown",
   "id": "d5630d27",
   "metadata": {},
   "source": [
      "When analyzing the bank-provided statistics on client solvency, dependencies were identified between the client's marital status and the number of children on the fact of timely loan repayment. The highest percentage of loan non-repayment was found among clients with marital status \"Widower / Widow\" and \"Cohabiting\" (9.76 and 9.28 respectively), as well as among clients with 4 children (9.76). Clients in these categories are considered to be at the highest risk of loan non-repayment.\n",
      "It is safer to issue loans to clients without children and with the marital status \"Married\"; these categories are more likely to repay loans within the terms specified in the contract. Additionally, clients from these categories more frequently apply for loans, which is also more beneficial for the bank."
   ]
},
{
   "cell_type": "code",
   "execution_count": null,
   "id": "5c22317a-ffc3-4fc3-807f-212008752df4",
   "metadata": {},
   "outputs": [],
   "source": []
}
   ],
   "metadata": {
      "kernelspec": {
         "display_name": "Python 3 (ipykernel)",
         "language": "python",
         "name": "python3"
      },
      "language_info": {
         "codemirror_mode": {
            "name": "ipython",
            "version": 3
         },
         "file_extension": ".py",
         "mimetype": "text/x-python",
         "name": "python",
         "nbconvert_exporter": "python",
         "pygments_lexer": "ipython3",
         "version": "3.11.1"
      },
      "toc": {
         "base_numbering": 1,
         "nav_menu": {},
         "number_sections": true,
         "sideBar": true,
         "skip_h1_title": true,
         "title_cell": "Table of Contents",
         "title_sidebar": "Contents",
         "toc_cell": false,
         "toc_position": {},
         "toc_section_display": true,
         "toc_window_display": false
      }
   },
   "nbformat": 4,
   "nbformat_minor": 5
}
